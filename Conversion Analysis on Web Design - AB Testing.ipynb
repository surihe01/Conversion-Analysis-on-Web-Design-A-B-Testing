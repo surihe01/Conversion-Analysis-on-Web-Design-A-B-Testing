{
 "cells": [
  {
   "cell_type": "markdown",
   "id": "f8b37e3b",
   "metadata": {},
   "source": [
    "# Conversion Analysis on Web Design"
   ]
  },
  {
   "cell_type": "markdown",
   "id": "9521f6e0",
   "metadata": {},
   "source": [
    "## 1. Introduction\n",
    "In this project, I will be analyzing the results of an A/B test run by an e-commerce website.  The final goal is to help the company understand if they should implement the new page, keep the old page, or perhaps run the experiment longer to make their decision"
   ]
  },
  {
   "cell_type": "markdown",
   "id": "6f1b3630",
   "metadata": {},
   "source": [
    "## 2. Import data & data cleaning"
   ]
  },
  {
   "cell_type": "code",
   "execution_count": 2,
   "id": "f9591c4d",
   "metadata": {},
   "outputs": [],
   "source": [
    "import pandas as pd\n",
    "import numpy as np\n",
    "import matplotlib.pyplot as plt\n",
    "import altair as alt\n",
    "\n",
    "%matplotlib inline"
   ]
  },
  {
   "cell_type": "code",
   "execution_count": 3,
   "id": "ffc6cb37",
   "metadata": {},
   "outputs": [
    {
     "data": {
      "text/html": [
       "<div>\n",
       "<style scoped>\n",
       "    .dataframe tbody tr th:only-of-type {\n",
       "        vertical-align: middle;\n",
       "    }\n",
       "\n",
       "    .dataframe tbody tr th {\n",
       "        vertical-align: top;\n",
       "    }\n",
       "\n",
       "    .dataframe thead th {\n",
       "        text-align: right;\n",
       "    }\n",
       "</style>\n",
       "<table border=\"1\" class=\"dataframe\">\n",
       "  <thead>\n",
       "    <tr style=\"text-align: right;\">\n",
       "      <th></th>\n",
       "      <th>user_id</th>\n",
       "      <th>timestamp</th>\n",
       "      <th>group</th>\n",
       "      <th>landing_page</th>\n",
       "      <th>converted</th>\n",
       "    </tr>\n",
       "  </thead>\n",
       "  <tbody>\n",
       "    <tr>\n",
       "      <th>0</th>\n",
       "      <td>851104.0</td>\n",
       "      <td>11:48.6</td>\n",
       "      <td>control</td>\n",
       "      <td>old_page</td>\n",
       "      <td>0.0</td>\n",
       "    </tr>\n",
       "    <tr>\n",
       "      <th>1</th>\n",
       "      <td>804228.0</td>\n",
       "      <td>01:45.2</td>\n",
       "      <td>control</td>\n",
       "      <td>old_page</td>\n",
       "      <td>0.0</td>\n",
       "    </tr>\n",
       "    <tr>\n",
       "      <th>2</th>\n",
       "      <td>661590.0</td>\n",
       "      <td>55:06.2</td>\n",
       "      <td>treatment</td>\n",
       "      <td>new_page</td>\n",
       "      <td>1.0</td>\n",
       "    </tr>\n",
       "    <tr>\n",
       "      <th>3</th>\n",
       "      <td>853541.0</td>\n",
       "      <td>28:03.1</td>\n",
       "      <td>treatment</td>\n",
       "      <td>new_page</td>\n",
       "      <td>1.0</td>\n",
       "    </tr>\n",
       "    <tr>\n",
       "      <th>4</th>\n",
       "      <td>864975.0</td>\n",
       "      <td>52:26.2</td>\n",
       "      <td>control</td>\n",
       "      <td>old_page</td>\n",
       "      <td>1.0</td>\n",
       "    </tr>\n",
       "  </tbody>\n",
       "</table>\n",
       "</div>"
      ],
      "text/plain": [
       "    user_id timestamp      group landing_page  converted\n",
       "0  851104.0   11:48.6    control     old_page        0.0\n",
       "1  804228.0   01:45.2    control     old_page        0.0\n",
       "2  661590.0   55:06.2  treatment     new_page        1.0\n",
       "3  853541.0   28:03.1  treatment     new_page        1.0\n",
       "4  864975.0   52:26.2    control     old_page        1.0"
      ]
     },
     "execution_count": 3,
     "metadata": {},
     "output_type": "execute_result"
    }
   ],
   "source": [
    "df=pd.read_excel('sample ab_data.xlsx')\n",
    "df.head()"
   ]
  },
  {
   "cell_type": "markdown",
   "id": "0a9146ae",
   "metadata": {},
   "source": [
    "Get an overview of the dataset"
   ]
  },
  {
   "cell_type": "code",
   "execution_count": 4,
   "id": "d04d69c5",
   "metadata": {},
   "outputs": [
    {
     "name": "stdout",
     "output_type": "stream",
     "text": [
      "<class 'pandas.core.frame.DataFrame'>\n",
      "RangeIndex: 294478 entries, 0 to 294477\n",
      "Data columns (total 5 columns):\n",
      " #   Column        Non-Null Count   Dtype  \n",
      "---  ------        --------------   -----  \n",
      " 0   user_id       294478 non-null  float64\n",
      " 1   timestamp     294478 non-null  object \n",
      " 2   group         294478 non-null  object \n",
      " 3   landing_page  294478 non-null  object \n",
      " 4   converted     294478 non-null  float64\n",
      "dtypes: float64(2), object(3)\n",
      "memory usage: 11.2+ MB\n"
     ]
    }
   ],
   "source": [
    "df.info()"
   ]
  },
  {
   "cell_type": "markdown",
   "id": "beacdb7b",
   "metadata": {},
   "source": [
    "Check if `group` aligns with `landing_page`"
   ]
  },
  {
   "cell_type": "code",
   "execution_count": 5,
   "id": "adc953a5",
   "metadata": {},
   "outputs": [
    {
     "data": {
      "text/plain": [
       "1965"
      ]
     },
     "execution_count": 5,
     "metadata": {},
     "output_type": "execute_result"
    }
   ],
   "source": [
    "((df.group=='treatment') & (df.landing_page=='old_page')).sum()"
   ]
  },
  {
   "cell_type": "code",
   "execution_count": 6,
   "id": "bf9694c4",
   "metadata": {},
   "outputs": [
    {
     "data": {
      "text/plain": [
       "1928"
      ]
     },
     "execution_count": 6,
     "metadata": {},
     "output_type": "execute_result"
    }
   ],
   "source": [
    "((df.group=='control') & (df.landing_page=='new_page')).sum()"
   ]
  },
  {
   "cell_type": "code",
   "execution_count": 7,
   "id": "d5d36dc6",
   "metadata": {},
   "outputs": [],
   "source": [
    "df['misaligned']=((df.group=='treatment') & (df.landing_page=='old_page')) | ((df.group=='control') & (df.landing_page=='new_page'))\n",
    "df = df[-df['misaligned']]"
   ]
  },
  {
   "cell_type": "code",
   "execution_count": 8,
   "id": "cc41c240",
   "metadata": {},
   "outputs": [
    {
     "name": "stdout",
     "output_type": "stream",
     "text": [
      "<class 'pandas.core.frame.DataFrame'>\n",
      "Int64Index: 290585 entries, 0 to 294477\n",
      "Data columns (total 6 columns):\n",
      " #   Column        Non-Null Count   Dtype  \n",
      "---  ------        --------------   -----  \n",
      " 0   user_id       290585 non-null  float64\n",
      " 1   timestamp     290585 non-null  object \n",
      " 2   group         290585 non-null  object \n",
      " 3   landing_page  290585 non-null  object \n",
      " 4   converted     290585 non-null  float64\n",
      " 5   misaligned    290585 non-null  bool   \n",
      "dtypes: bool(1), float64(2), object(3)\n",
      "memory usage: 13.6+ MB\n"
     ]
    }
   ],
   "source": [
    "df.info()"
   ]
  },
  {
   "cell_type": "markdown",
   "id": "1752d371",
   "metadata": {},
   "source": [
    "Check unique users"
   ]
  },
  {
   "cell_type": "code",
   "execution_count": 9,
   "id": "26e358ef",
   "metadata": {},
   "outputs": [
    {
     "data": {
      "text/plain": [
       "290584"
      ]
     },
     "execution_count": 9,
     "metadata": {},
     "output_type": "execute_result"
    }
   ],
   "source": [
    "df.user_id.nunique()"
   ]
  },
  {
   "cell_type": "code",
   "execution_count": 10,
   "id": "e2af5b48",
   "metadata": {},
   "outputs": [
    {
     "data": {
      "text/plain": [
       "773192.0    2\n",
       "834487.0    1\n",
       "936923.0    1\n",
       "679687.0    1\n",
       "719014.0    1\n",
       "Name: user_id, dtype: int64"
      ]
     },
     "execution_count": 10,
     "metadata": {},
     "output_type": "execute_result"
    }
   ],
   "source": [
    "df['user_id'].value_counts().sort_values(ascending=False).head()"
   ]
  },
  {
   "cell_type": "code",
   "execution_count": 11,
   "id": "e085a811",
   "metadata": {
    "scrolled": true
   },
   "outputs": [
    {
     "data": {
      "text/html": [
       "<div>\n",
       "<style scoped>\n",
       "    .dataframe tbody tr th:only-of-type {\n",
       "        vertical-align: middle;\n",
       "    }\n",
       "\n",
       "    .dataframe tbody tr th {\n",
       "        vertical-align: top;\n",
       "    }\n",
       "\n",
       "    .dataframe thead th {\n",
       "        text-align: right;\n",
       "    }\n",
       "</style>\n",
       "<table border=\"1\" class=\"dataframe\">\n",
       "  <thead>\n",
       "    <tr style=\"text-align: right;\">\n",
       "      <th></th>\n",
       "      <th>user_id</th>\n",
       "      <th>timestamp</th>\n",
       "      <th>group</th>\n",
       "      <th>landing_page</th>\n",
       "      <th>converted</th>\n",
       "      <th>misaligned</th>\n",
       "    </tr>\n",
       "  </thead>\n",
       "  <tbody>\n",
       "    <tr>\n",
       "      <th>1899</th>\n",
       "      <td>773192.0</td>\n",
       "      <td>37:58.8</td>\n",
       "      <td>treatment</td>\n",
       "      <td>new_page</td>\n",
       "      <td>1.0</td>\n",
       "      <td>False</td>\n",
       "    </tr>\n",
       "    <tr>\n",
       "      <th>2893</th>\n",
       "      <td>773192.0</td>\n",
       "      <td>55:59.6</td>\n",
       "      <td>treatment</td>\n",
       "      <td>new_page</td>\n",
       "      <td>0.0</td>\n",
       "      <td>False</td>\n",
       "    </tr>\n",
       "  </tbody>\n",
       "</table>\n",
       "</div>"
      ],
      "text/plain": [
       "       user_id timestamp      group landing_page  converted  misaligned\n",
       "1899  773192.0   37:58.8  treatment     new_page        1.0       False\n",
       "2893  773192.0   55:59.6  treatment     new_page        0.0       False"
      ]
     },
     "execution_count": 11,
     "metadata": {},
     "output_type": "execute_result"
    }
   ],
   "source": [
    "df[df['user_id']==773192]"
   ]
  },
  {
   "cell_type": "code",
   "execution_count": 12,
   "id": "a622457d",
   "metadata": {},
   "outputs": [],
   "source": [
    "df.drop(1899, axis = 0,inplace = True) #based on assumption"
   ]
  },
  {
   "cell_type": "code",
   "execution_count": 13,
   "id": "76a62c3a",
   "metadata": {},
   "outputs": [
    {
     "data": {
      "text/plain": [
       "851104.0    1\n",
       "834487.0    1\n",
       "936923.0    1\n",
       "679687.0    1\n",
       "719014.0    1\n",
       "Name: user_id, dtype: int64"
      ]
     },
     "execution_count": 13,
     "metadata": {},
     "output_type": "execute_result"
    }
   ],
   "source": [
    "df['user_id'].value_counts().sort_values(ascending=False).head()"
   ]
  },
  {
   "cell_type": "markdown",
   "id": "ec7f1888",
   "metadata": {},
   "source": [
    "How many users in each group"
   ]
  },
  {
   "cell_type": "code",
   "execution_count": 14,
   "id": "94a8551d",
   "metadata": {},
   "outputs": [
    {
     "data": {
      "text/html": [
       "<div>\n",
       "<style scoped>\n",
       "    .dataframe tbody tr th:only-of-type {\n",
       "        vertical-align: middle;\n",
       "    }\n",
       "\n",
       "    .dataframe tbody tr th {\n",
       "        vertical-align: top;\n",
       "    }\n",
       "\n",
       "    .dataframe thead th {\n",
       "        text-align: right;\n",
       "    }\n",
       "</style>\n",
       "<table border=\"1\" class=\"dataframe\">\n",
       "  <thead>\n",
       "    <tr style=\"text-align: right;\">\n",
       "      <th></th>\n",
       "      <th>user_id</th>\n",
       "    </tr>\n",
       "    <tr>\n",
       "      <th>group</th>\n",
       "      <th></th>\n",
       "    </tr>\n",
       "  </thead>\n",
       "  <tbody>\n",
       "    <tr>\n",
       "      <th>control</th>\n",
       "      <td>145274</td>\n",
       "    </tr>\n",
       "    <tr>\n",
       "      <th>treatment</th>\n",
       "      <td>145310</td>\n",
       "    </tr>\n",
       "  </tbody>\n",
       "</table>\n",
       "</div>"
      ],
      "text/plain": [
       "           user_id\n",
       "group             \n",
       "control     145274\n",
       "treatment   145310"
      ]
     },
     "execution_count": 14,
     "metadata": {},
     "output_type": "execute_result"
    }
   ],
   "source": [
    "df[['user_id','group']].groupby('group').count()"
   ]
  },
  {
   "cell_type": "markdown",
   "id": "23d3457f",
   "metadata": {},
   "source": [
    "Conversion rate in each group"
   ]
  },
  {
   "cell_type": "code",
   "execution_count": 15,
   "id": "d29c3a3d",
   "metadata": {},
   "outputs": [
    {
     "data": {
      "text/html": [
       "<div>\n",
       "<style scoped>\n",
       "    .dataframe tbody tr th:only-of-type {\n",
       "        vertical-align: middle;\n",
       "    }\n",
       "\n",
       "    .dataframe tbody tr th {\n",
       "        vertical-align: top;\n",
       "    }\n",
       "\n",
       "    .dataframe thead th {\n",
       "        text-align: right;\n",
       "    }\n",
       "</style>\n",
       "<table border=\"1\" class=\"dataframe\">\n",
       "  <thead>\n",
       "    <tr style=\"text-align: right;\">\n",
       "      <th></th>\n",
       "      <th>user_id</th>\n",
       "      <th>converted</th>\n",
       "    </tr>\n",
       "    <tr>\n",
       "      <th>group</th>\n",
       "      <th></th>\n",
       "      <th></th>\n",
       "    </tr>\n",
       "  </thead>\n",
       "  <tbody>\n",
       "    <tr>\n",
       "      <th>control</th>\n",
       "      <td>145274</td>\n",
       "      <td>0.120386</td>\n",
       "    </tr>\n",
       "    <tr>\n",
       "      <th>treatment</th>\n",
       "      <td>145310</td>\n",
       "      <td>0.125353</td>\n",
       "    </tr>\n",
       "  </tbody>\n",
       "</table>\n",
       "</div>"
      ],
      "text/plain": [
       "           user_id  converted\n",
       "group                        \n",
       "control     145274   0.120386\n",
       "treatment   145310   0.125353"
      ]
     },
     "execution_count": 15,
     "metadata": {},
     "output_type": "execute_result"
    }
   ],
   "source": [
    "df[['user_id','group','converted']].groupby('group').agg({'user_id':'count','converted':'mean'})"
   ]
  },
  {
   "cell_type": "markdown",
   "id": "98c9858a",
   "metadata": {},
   "source": [
    "### EDA"
   ]
  },
  {
   "cell_type": "code",
   "execution_count": 16,
   "id": "f9b6ff0a",
   "metadata": {},
   "outputs": [
    {
     "data": {
      "text/html": [
       "<div>\n",
       "<style scoped>\n",
       "    .dataframe tbody tr th:only-of-type {\n",
       "        vertical-align: middle;\n",
       "    }\n",
       "\n",
       "    .dataframe tbody tr th {\n",
       "        vertical-align: top;\n",
       "    }\n",
       "\n",
       "    .dataframe thead th {\n",
       "        text-align: right;\n",
       "    }\n",
       "</style>\n",
       "<table border=\"1\" class=\"dataframe\">\n",
       "  <thead>\n",
       "    <tr style=\"text-align: right;\">\n",
       "      <th></th>\n",
       "      <th>user_id</th>\n",
       "      <th>timestamp</th>\n",
       "      <th>group</th>\n",
       "      <th>landing_page</th>\n",
       "      <th>converted</th>\n",
       "      <th>misaligned</th>\n",
       "    </tr>\n",
       "  </thead>\n",
       "  <tbody>\n",
       "    <tr>\n",
       "      <th>0</th>\n",
       "      <td>851104.0</td>\n",
       "      <td>11:48.6</td>\n",
       "      <td>control</td>\n",
       "      <td>old_page</td>\n",
       "      <td>0.0</td>\n",
       "      <td>False</td>\n",
       "    </tr>\n",
       "    <tr>\n",
       "      <th>1</th>\n",
       "      <td>804228.0</td>\n",
       "      <td>01:45.2</td>\n",
       "      <td>control</td>\n",
       "      <td>old_page</td>\n",
       "      <td>0.0</td>\n",
       "      <td>False</td>\n",
       "    </tr>\n",
       "    <tr>\n",
       "      <th>2</th>\n",
       "      <td>661590.0</td>\n",
       "      <td>55:06.2</td>\n",
       "      <td>treatment</td>\n",
       "      <td>new_page</td>\n",
       "      <td>1.0</td>\n",
       "      <td>False</td>\n",
       "    </tr>\n",
       "    <tr>\n",
       "      <th>3</th>\n",
       "      <td>853541.0</td>\n",
       "      <td>28:03.1</td>\n",
       "      <td>treatment</td>\n",
       "      <td>new_page</td>\n",
       "      <td>1.0</td>\n",
       "      <td>False</td>\n",
       "    </tr>\n",
       "    <tr>\n",
       "      <th>4</th>\n",
       "      <td>864975.0</td>\n",
       "      <td>52:26.2</td>\n",
       "      <td>control</td>\n",
       "      <td>old_page</td>\n",
       "      <td>1.0</td>\n",
       "      <td>False</td>\n",
       "    </tr>\n",
       "    <tr>\n",
       "      <th>5</th>\n",
       "      <td>936923.0</td>\n",
       "      <td>20:49.1</td>\n",
       "      <td>control</td>\n",
       "      <td>old_page</td>\n",
       "      <td>0.0</td>\n",
       "      <td>False</td>\n",
       "    </tr>\n",
       "    <tr>\n",
       "      <th>6</th>\n",
       "      <td>679687.0</td>\n",
       "      <td>26:46.9</td>\n",
       "      <td>treatment</td>\n",
       "      <td>new_page</td>\n",
       "      <td>1.0</td>\n",
       "      <td>False</td>\n",
       "    </tr>\n",
       "    <tr>\n",
       "      <th>7</th>\n",
       "      <td>719014.0</td>\n",
       "      <td>48:29.5</td>\n",
       "      <td>control</td>\n",
       "      <td>old_page</td>\n",
       "      <td>0.0</td>\n",
       "      <td>False</td>\n",
       "    </tr>\n",
       "    <tr>\n",
       "      <th>8</th>\n",
       "      <td>817355.0</td>\n",
       "      <td>58:09.0</td>\n",
       "      <td>treatment</td>\n",
       "      <td>new_page</td>\n",
       "      <td>1.0</td>\n",
       "      <td>False</td>\n",
       "    </tr>\n",
       "    <tr>\n",
       "      <th>9</th>\n",
       "      <td>839785.0</td>\n",
       "      <td>11:06.6</td>\n",
       "      <td>treatment</td>\n",
       "      <td>new_page</td>\n",
       "      <td>1.0</td>\n",
       "      <td>False</td>\n",
       "    </tr>\n",
       "  </tbody>\n",
       "</table>\n",
       "</div>"
      ],
      "text/plain": [
       "    user_id timestamp      group landing_page  converted  misaligned\n",
       "0  851104.0   11:48.6    control     old_page        0.0       False\n",
       "1  804228.0   01:45.2    control     old_page        0.0       False\n",
       "2  661590.0   55:06.2  treatment     new_page        1.0       False\n",
       "3  853541.0   28:03.1  treatment     new_page        1.0       False\n",
       "4  864975.0   52:26.2    control     old_page        1.0       False\n",
       "5  936923.0   20:49.1    control     old_page        0.0       False\n",
       "6  679687.0   26:46.9  treatment     new_page        1.0       False\n",
       "7  719014.0   48:29.5    control     old_page        0.0       False\n",
       "8  817355.0   58:09.0  treatment     new_page        1.0       False\n",
       "9  839785.0   11:06.6  treatment     new_page        1.0       False"
      ]
     },
     "execution_count": 16,
     "metadata": {},
     "output_type": "execute_result"
    }
   ],
   "source": [
    "df.head(10)"
   ]
  },
  {
   "cell_type": "code",
   "execution_count": 17,
   "id": "e59c166c",
   "metadata": {},
   "outputs": [],
   "source": [
    "# line: overall trends\n",
    "# line: trends over different time / group"
   ]
  },
  {
   "cell_type": "code",
   "execution_count": 18,
   "id": "a9b4d435",
   "metadata": {},
   "outputs": [
    {
     "data": {
      "image/png": "[encoded data removed]",
      "text/plain": [
       "<Figure size 432x288 with 1 Axes>"
      ]
     },
     "metadata": {
      "needs_background": "light"
     },
     "output_type": "display_data"
    }
   ],
   "source": [
    "df['timestamp'] = pd.to_datetime(df['timestamp'], format='%M:%S.%f')\n",
    "df['minute'] = df['timestamp'].dt.minute\n",
    "df.set_index('timestamp', inplace=True)\n",
    "\n",
    "minute_conversion = df.groupby('minute')['converted'].mean()\n",
    "plt.plot(minute_conversion.index, minute_conversion.values)\n",
    "plt.xlabel('Minute of the Hour')\n",
    "plt.ylabel('Conversion Rate')\n",
    "plt.title('Minute-level Conversion Rate')\n",
    "plt.show()"
   ]
  },
  {
   "cell_type": "code",
   "execution_count": 19,
   "id": "2c9e9a51",
   "metadata": {},
   "outputs": [
    {
     "data": {
      "text/html": [
       "\n",
       "<style>\n",
       "  #altair-viz-a87404c67e184a86b4635572b0c92bf1.vega-embed {\n",
       "    width: 100%;\n",
       "    display: flex;\n",
       "  }\n",
       "\n",
       "  #altair-viz-a87404c67e184a86b4635572b0c92bf1.vega-embed details,\n",
       "  #altair-viz-a87404c67e184a86b4635572b0c92bf1.vega-embed details summary {\n",
       "    position: relative;\n",
       "  }\n",
       "</style>\n",
       "<div id=\"altair-viz-a87404c67e184a86b4635572b0c92bf1\"></div>\n",
       "<script type=\"text/javascript\">\n",
       "  var VEGA_DEBUG = (typeof VEGA_DEBUG == \"undefined\") ? {} : VEGA_DEBUG;\n",
       "  (function(spec, embedOpt){\n",
       "    let outputDiv = document.currentScript.previousElementSibling;\n",
       "    if (outputDiv.id !== \"altair-viz-a87404c67e184a86b4635572b0c92bf1\") {\n",
       "      outputDiv = document.getElementById(\"altair-viz-a87404c67e184a86b4635572b0c92bf1\");\n",
       "    }\n",
       "    const paths = {\n",
       "      \"vega\": \"https://cdn.jsdelivr.net/npm/vega@5?noext\",\n",
       "      \"vega-lib\": \"https://cdn.jsdelivr.net/npm/vega-lib?noext\",\n",
       "      \"vega-lite\": \"https://cdn.jsdelivr.net/npm/vega-lite@5.8.0?noext\",\n",
       "      \"vega-embed\": \"https://cdn.jsdelivr.net/npm/vega-embed@6?noext\",\n",
       "    };\n",
       "\n",
       "    function maybeLoadScript(lib, version) {\n",
       "      var key = `${lib.replace(\"-\", \"\")}_version`;\n",
       "      return (VEGA_DEBUG[key] == version) ?\n",
       "        Promise.resolve(paths[lib]) :\n",
       "        new Promise(function(resolve, reject) {\n",
       "          var s = document.createElement('script');\n",
       "          document.getElementsByTagName(\"head\")[0].appendChild(s);\n",
       "          s.async = true;\n",
       "          s.onload = () => {\n",
       "            VEGA_DEBUG[key] = version;\n",
       "            return resolve(paths[lib]);\n",
       "          };\n",
       "          s.onerror = () => reject(`Error loading script: ${paths[lib]}`);\n",
       "          s.src = paths[lib];\n",
       "        });\n",
       "    }\n",
       "\n",
       "    function showError(err) {\n",
       "      outputDiv.innerHTML = `<div class=\"error\" style=\"color:red;\">${err}</div>`;\n",
       "      throw err;\n",
       "    }\n",
       "\n",
       "    function displayChart(vegaEmbed) {\n",
       "      vegaEmbed(outputDiv, spec, embedOpt)\n",
       "        .catch(err => showError(`Javascript Error: ${err.message}<br>This usually means there's a typo in your chart specification. See the javascript console for the full traceback.`));\n",
       "    }\n",
       "\n",
       "    if(typeof define === \"function\" && define.amd) {\n",
       "      requirejs.config({paths});\n",
       "      require([\"vega-embed\"], displayChart, err => showError(`Error loading script: ${err.message}`));\n",
       "    } else {\n",
       "      maybeLoadScript(\"vega\", \"5\")\n",
       "        .then(() => maybeLoadScript(\"vega-lite\", \"5.8.0\"))\n",
       "        .then(() => maybeLoadScript(\"vega-embed\", \"6\"))\n",
       "        .catch(showError)\n",
       "        .then(() => displayChart(vegaEmbed));\n",
       "    }\n",
       "  })({\"config\": {\"view\": {\"continuousWidth\": 300, \"continuousHeight\": 300}, \"axis\": {\"labelFontSize\": 12, \"titleFontSize\": 14}, \"title\": {\"fontSize\": 16}}, \"data\": {\"name\": \"data-16d837d762ec6d8c3cedafd9f0d14b0b\"}, \"mark\": {\"type\": \"line\"}, \"encoding\": {\"x\": {\"field\": \"minute\", \"title\": \"Minute of the Hour\", \"type\": \"quantitative\"}, \"y\": {\"field\": \"converted\", \"scale\": {\"domain\": [0.1, 0.15]}, \"title\": \"Conversion Rate\", \"type\": \"quantitative\"}}, \"height\": 400, \"title\": \"Minute-level Conversion Rate\", \"width\": 600, \"$schema\": \"https://vega.github.io/schema/vega-lite/v5.8.0.json\", \"datasets\": {\"data-16d837d762ec6d8c3cedafd9f0d14b0b\": [{\"minute\": 0, \"converted\": 0.12057178371659416}, {\"minute\": 1, \"converted\": 0.12267975250693407}, {\"minute\": 2, \"converted\": 0.12387755102040816}, {\"minute\": 3, \"converted\": 0.1284881299458559}, {\"minute\": 4, \"converted\": 0.11749134595805336}, {\"minute\": 5, \"converted\": 0.12640801001251564}, {\"minute\": 6, \"converted\": 0.12724962947279272}, {\"minute\": 7, \"converted\": 0.11872526556967299}, {\"minute\": 8, \"converted\": 0.1176232001622389}, {\"minute\": 9, \"converted\": 0.12502596053997922}, {\"minute\": 10, \"converted\": 0.1308703819661866}, {\"minute\": 11, \"converted\": 0.1276595744680851}, {\"minute\": 12, \"converted\": 0.12442299622324801}, {\"minute\": 13, \"converted\": 0.11980033277870217}, {\"minute\": 14, \"converted\": 0.12170848019904623}, {\"minute\": 15, \"converted\": 0.12382346789374608}, {\"minute\": 16, \"converted\": 0.11444652908067542}, {\"minute\": 17, \"converted\": 0.11231732776617954}, {\"minute\": 18, \"converted\": 0.12194118856672835}, {\"minute\": 19, \"converted\": 0.11833710640049393}, {\"minute\": 20, \"converted\": 0.12652470539590654}, {\"minute\": 21, \"converted\": 0.12972634217672863}, {\"minute\": 22, \"converted\": 0.127247020803878}, {\"minute\": 23, \"converted\": 0.12094088259783514}, {\"minute\": 24, \"converted\": 0.12141234771835639}, {\"minute\": 25, \"converted\": 0.12256033578174187}, {\"minute\": 26, \"converted\": 0.1166839378238342}, {\"minute\": 27, \"converted\": 0.12202501008471157}, {\"minute\": 28, \"converted\": 0.12354124748490945}, {\"minute\": 29, \"converted\": 0.12396192019445007}, {\"minute\": 30, \"converted\": 0.12827928114026027}, {\"minute\": 31, \"converted\": 0.1225725621215285}, {\"minute\": 32, \"converted\": 0.1293919629707553}, {\"minute\": 33, \"converted\": 0.12871690427698573}, {\"minute\": 34, \"converted\": 0.1232504700229789}, {\"minute\": 35, \"converted\": 0.12061315046389673}, {\"minute\": 36, \"converted\": 0.11758670223681511}, {\"minute\": 37, \"converted\": 0.11699959233591521}, {\"minute\": 38, \"converted\": 0.12886703544355665}, {\"minute\": 39, \"converted\": 0.13157894736842105}, {\"minute\": 40, \"converted\": 0.1242122382598089}, {\"minute\": 41, \"converted\": 0.1199400299850075}, {\"minute\": 42, \"converted\": 0.1285829632620105}, {\"minute\": 43, \"converted\": 0.1220298026580749}, {\"minute\": 44, \"converted\": 0.12443064182194617}, {\"minute\": 45, \"converted\": 0.12093788564376799}, {\"minute\": 46, \"converted\": 0.11885830784913354}, {\"minute\": 47, \"converted\": 0.12923076923076923}, {\"minute\": 48, \"converted\": 0.12145665218290917}, {\"minute\": 49, \"converted\": 0.11512275634413038}, {\"minute\": 50, \"converted\": 0.12342833193629506}, {\"minute\": 51, \"converted\": 0.12289457267623206}, {\"minute\": 52, \"converted\": 0.12181187512752499}, {\"minute\": 53, \"converted\": 0.11261899939234353}, {\"minute\": 54, \"converted\": 0.12670243499793643}, {\"minute\": 55, \"converted\": 0.12497387669801463}, {\"minute\": 56, \"converted\": 0.11999186495830791}, {\"minute\": 57, \"converted\": 0.1225071225071225}, {\"minute\": 58, \"converted\": 0.12170639899623588}, {\"minute\": 59, \"converted\": 0.12531328320802004}]}}, {\"mode\": \"vega-lite\"});\n",
       "</script>"
      ],
      "text/plain": [
       "alt.Chart(...)"
      ]
     },
     "execution_count": 19,
     "metadata": {},
     "output_type": "execute_result"
    }
   ],
   "source": [
    "minute_conversion = df.groupby('minute')['converted'].mean().reset_index()\n",
    "# Create the Altair chart\n",
    "chart = alt.Chart(minute_conversion).mark_line().encode(\n",
    "    x=alt.X('minute', title='Minute of the Hour'),\n",
    "    y=alt.Y('converted', scale=alt.Scale(domain=[0.1, 0.15]), title='Conversion Rate')\n",
    ").properties(\n",
    "    width=600,\n",
    "    height=400,\n",
    "    title='Minute-level Conversion Rate'\n",
    ")\n",
    "\n",
    "# Customize axis labels and title\n",
    "chart = chart.configure_axis(\n",
    "    labelFontSize=12,    # Font size for axis labels\n",
    "    titleFontSize=14     # Font size for axis titles\n",
    ").configure_title(\n",
    "    fontSize=16          # Font size for the chart title\n",
    ")\n",
    "\n",
    "# Display the Altair chart\n",
    "chart"
   ]
  },
  {
   "cell_type": "code",
   "execution_count": 20,
   "id": "d873ee71",
   "metadata": {},
   "outputs": [
    {
     "data": {
      "image/png": "[encoded data removed]",
      "text/plain": [
       "<Figure size 720x432 with 1 Axes>"
      ]
     },
     "metadata": {
      "needs_background": "light"
     },
     "output_type": "display_data"
    }
   ],
   "source": [
    "# Group by 'minute', 'group', and 'landing_page' and calculate conversion rate\n",
    "grouped_data = df.groupby(['minute', 'group', 'landing_page'])\n",
    "conversion_rate_by_time_group_lp = grouped_data['converted'].mean().reset_index()\n",
    "\n",
    "# Plot the conversion rate over time for each group and landing page combination\n",
    "plt.figure(figsize=(10, 6))\n",
    "\n",
    "for group_name, group_data in conversion_rate_by_time_group_lp.groupby('group'):\n",
    "    for landing_page_name, landing_page_data in group_data.groupby('landing_page'):\n",
    "        label = f\"{group_name} - {landing_page_name}\"\n",
    "        plt.plot(landing_page_data['minute'], landing_page_data['converted'], label=label)\n",
    "\n",
    "plt.xlabel('Minute of the Hour')\n",
    "plt.ylabel('Conversion Rate')\n",
    "plt.title('Conversion Rate by Time, Group, and Landing Page')\n",
    "plt.legend(title='Group - Landing Page', loc='lower right')\n",
    "plt.xticks(range(0, 60, 5))  # Customize the x-axis ticks for better visibility\n",
    "plt.grid(True)  # Add gridlines for better readability\n",
    "plt.show()"
   ]
  },
  {
   "cell_type": "code",
   "execution_count": 21,
   "id": "19f8cca6",
   "metadata": {},
   "outputs": [
    {
     "data": {
      "text/html": [
       "\n",
       "<style>\n",
       "  #altair-viz-b4abe36b595b4161a2bb5cdf9c25d8d9.vega-embed {\n",
       "    width: 100%;\n",
       "    display: flex;\n",
       "  }\n",
       "\n",
       "  #altair-viz-b4abe36b595b4161a2bb5cdf9c25d8d9.vega-embed details,\n",
       "  #altair-viz-b4abe36b595b4161a2bb5cdf9c25d8d9.vega-embed details summary {\n",
       "    position: relative;\n",
       "  }\n",
       "</style>\n",
       "<div id=\"altair-viz-b4abe36b595b4161a2bb5cdf9c25d8d9\"></div>\n",
       "<script type=\"text/javascript\">\n",
       "  var VEGA_DEBUG = (typeof VEGA_DEBUG == \"undefined\") ? {} : VEGA_DEBUG;\n",
       "  (function(spec, embedOpt){\n",
       "    let outputDiv = document.currentScript.previousElementSibling;\n",
       "    if (outputDiv.id !== \"altair-viz-b4abe36b595b4161a2bb5cdf9c25d8d9\") {\n",
       "      outputDiv = document.getElementById(\"altair-viz-b4abe36b595b4161a2bb5cdf9c25d8d9\");\n",
       "    }\n",
       "    const paths = {\n",
       "      \"vega\": \"https://cdn.jsdelivr.net/npm/vega@5?noext\",\n",
       "      \"vega-lib\": \"https://cdn.jsdelivr.net/npm/vega-lib?noext\",\n",
       "      \"vega-lite\": \"https://cdn.jsdelivr.net/npm/vega-lite@5.8.0?noext\",\n",
       "      \"vega-embed\": \"https://cdn.jsdelivr.net/npm/vega-embed@6?noext\",\n",
       "    };\n",
       "\n",
       "    function maybeLoadScript(lib, version) {\n",
       "      var key = `${lib.replace(\"-\", \"\")}_version`;\n",
       "      return (VEGA_DEBUG[key] == version) ?\n",
       "        Promise.resolve(paths[lib]) :\n",
       "        new Promise(function(resolve, reject) {\n",
       "          var s = document.createElement('script');\n",
       "          document.getElementsByTagName(\"head\")[0].appendChild(s);\n",
       "          s.async = true;\n",
       "          s.onload = () => {\n",
       "            VEGA_DEBUG[key] = version;\n",
       "            return resolve(paths[lib]);\n",
       "          };\n",
       "          s.onerror = () => reject(`Error loading script: ${paths[lib]}`);\n",
       "          s.src = paths[lib];\n",
       "        });\n",
       "    }\n",
       "\n",
       "    function showError(err) {\n",
       "      outputDiv.innerHTML = `<div class=\"error\" style=\"color:red;\">${err}</div>`;\n",
       "      throw err;\n",
       "    }\n",
       "\n",
       "    function displayChart(vegaEmbed) {\n",
       "      vegaEmbed(outputDiv, spec, embedOpt)\n",
       "        .catch(err => showError(`Javascript Error: ${err.message}<br>This usually means there's a typo in your chart specification. See the javascript console for the full traceback.`));\n",
       "    }\n",
       "\n",
       "    if(typeof define === \"function\" && define.amd) {\n",
       "      requirejs.config({paths});\n",
       "      require([\"vega-embed\"], displayChart, err => showError(`Error loading script: ${err.message}`));\n",
       "    } else {\n",
       "      maybeLoadScript(\"vega\", \"5\")\n",
       "        .then(() => maybeLoadScript(\"vega-lite\", \"5.8.0\"))\n",
       "        .then(() => maybeLoadScript(\"vega-embed\", \"6\"))\n",
       "        .catch(showError)\n",
       "        .then(() => displayChart(vegaEmbed));\n",
       "    }\n",
       "  })({\"config\": {\"view\": {\"continuousWidth\": 300, \"continuousHeight\": 300}}, \"data\": {\"name\": \"data-94097ba66576414953e236a675f07714\"}, \"mark\": {\"type\": \"line\"}, \"datasets\": {\"data-94097ba66576414953e236a675f07714\": [{\"minute\": 0, \"group\": \"control\", \"landing_page\": \"old_page\", \"converted\": 0.11889250814332247}, {\"minute\": 0, \"group\": \"treatment\", \"landing_page\": \"new_page\", \"converted\": 0.12231126107127795}, {\"minute\": 1, \"group\": \"control\", \"landing_page\": \"old_page\", \"converted\": 0.1287779237844941}, {\"minute\": 1, \"group\": \"treatment\", \"landing_page\": \"new_page\", \"converted\": 0.11688851913477537}, {\"minute\": 2, \"group\": \"control\", \"landing_page\": \"old_page\", \"converted\": 0.11973018549747048}, {\"minute\": 2, \"group\": \"treatment\", \"landing_page\": \"new_page\", \"converted\": 0.12776898734177214}, {\"minute\": 3, \"group\": \"control\", \"landing_page\": \"old_page\", \"converted\": 0.12578880942364326}, {\"minute\": 3, \"group\": \"treatment\", \"landing_page\": \"new_page\", \"converted\": 0.1311340206185567}, {\"minute\": 4, \"group\": \"control\", \"landing_page\": \"old_page\", \"converted\": 0.12413793103448276}, {\"minute\": 4, \"group\": \"treatment\", \"landing_page\": \"new_page\", \"converted\": 0.11079313164349959}, {\"minute\": 5, \"group\": \"control\", \"landing_page\": \"old_page\", \"converted\": 0.12393526405451448}, {\"minute\": 5, \"group\": \"treatment\", \"landing_page\": \"new_page\", \"converted\": 0.12878168438266557}, {\"minute\": 6, \"group\": \"control\", \"landing_page\": \"old_page\", \"converted\": 0.12135506003430532}, {\"minute\": 6, \"group\": \"treatment\", \"landing_page\": \"new_page\", \"converted\": 0.1329987452948557}, {\"minute\": 7, \"group\": \"control\", \"landing_page\": \"old_page\", \"converted\": 0.12145577655522641}, {\"minute\": 7, \"group\": \"treatment\", \"landing_page\": \"new_page\", \"converted\": 0.11607875307629205}, {\"minute\": 8, \"group\": \"control\", \"landing_page\": \"old_page\", \"converted\": 0.11088950937375348}, {\"minute\": 8, \"group\": \"treatment\", \"landing_page\": \"new_page\", \"converted\": 0.12458745874587458}, {\"minute\": 9, \"group\": \"control\", \"landing_page\": \"old_page\", \"converted\": 0.12536201903185767}, {\"minute\": 9, \"group\": \"treatment\", \"landing_page\": \"new_page\", \"converted\": 0.12468723936613844}, {\"minute\": 10, \"group\": \"control\", \"landing_page\": \"old_page\", \"converted\": 0.12842105263157894}, {\"minute\": 10, \"group\": \"treatment\", \"landing_page\": \"new_page\", \"converted\": 0.13327814569536423}, {\"minute\": 11, \"group\": \"control\", \"landing_page\": \"old_page\", \"converted\": 0.12841091492776885}, {\"minute\": 11, \"group\": \"treatment\", \"landing_page\": \"new_page\", \"converted\": 0.12686249467858662}, {\"minute\": 12, \"group\": \"control\", \"landing_page\": \"old_page\", \"converted\": 0.12377711612079965}, {\"minute\": 12, \"group\": \"treatment\", \"landing_page\": \"new_page\", \"converted\": 0.12505175983436853}, {\"minute\": 13, \"group\": \"control\", \"landing_page\": \"old_page\", \"converted\": 0.11829268292682926}, {\"minute\": 13, \"group\": \"treatment\", \"landing_page\": \"new_page\", \"converted\": 0.12137989778534923}, {\"minute\": 14, \"group\": \"control\", \"landing_page\": \"old_page\", \"converted\": 0.12326461926798485}, {\"minute\": 14, \"group\": \"treatment\", \"landing_page\": \"new_page\", \"converted\": 0.12019623875715454}, {\"minute\": 15, \"group\": \"control\", \"landing_page\": \"old_page\", \"converted\": 0.12172829248026588}, {\"minute\": 15, \"group\": \"treatment\", \"landing_page\": \"new_page\", \"converted\": 0.12594776748104464}, {\"minute\": 16, \"group\": \"control\", \"landing_page\": \"old_page\", \"converted\": 0.11740216486261448}, {\"minute\": 16, \"group\": \"treatment\", \"landing_page\": \"new_page\", \"converted\": 0.11148225469728601}, {\"minute\": 17, \"group\": \"control\", \"landing_page\": \"old_page\", \"converted\": 0.11185588604943443}, {\"minute\": 17, \"group\": \"treatment\", \"landing_page\": \"new_page\", \"converted\": 0.11277569704535996}, {\"minute\": 18, \"group\": \"control\", \"landing_page\": \"old_page\", \"converted\": 0.11964066966108616}, {\"minute\": 18, \"group\": \"treatment\", \"landing_page\": \"new_page\", \"converted\": 0.12427506213753108}, {\"minute\": 19, \"group\": \"control\", \"landing_page\": \"old_page\", \"converted\": 0.10758450123660346}, {\"minute\": 19, \"group\": \"treatment\", \"landing_page\": \"new_page\", \"converted\": 0.12905877517468145}, {\"minute\": 20, \"group\": \"control\", \"landing_page\": \"old_page\", \"converted\": 0.11904761904761904}, {\"minute\": 20, \"group\": \"treatment\", \"landing_page\": \"new_page\", \"converted\": 0.13385182153090464}, {\"minute\": 21, \"group\": \"control\", \"landing_page\": \"old_page\", \"converted\": 0.12729602733874412}, {\"minute\": 21, \"group\": \"treatment\", \"landing_page\": \"new_page\", \"converted\": 0.13205233033524122}, {\"minute\": 22, \"group\": \"control\", \"landing_page\": \"old_page\", \"converted\": 0.125}, {\"minute\": 22, \"group\": \"treatment\", \"landing_page\": \"new_page\", \"converted\": 0.12959141560049525}, {\"minute\": 23, \"group\": \"control\", \"landing_page\": \"old_page\", \"converted\": 0.12678421494542402}, {\"minute\": 23, \"group\": \"treatment\", \"landing_page\": \"new_page\", \"converted\": 0.11519405450041288}, {\"minute\": 24, \"group\": \"control\", \"landing_page\": \"old_page\", \"converted\": 0.11821862348178137}, {\"minute\": 24, \"group\": \"treatment\", \"landing_page\": \"new_page\", \"converted\": 0.12473662031184155}, {\"minute\": 25, \"group\": \"control\", \"landing_page\": \"old_page\", \"converted\": 0.11615945135019289}, {\"minute\": 25, \"group\": \"treatment\", \"landing_page\": \"new_page\", \"converted\": 0.12870065789473684}, {\"minute\": 26, \"group\": \"control\", \"landing_page\": \"old_page\", \"converted\": 0.11949939442874445}, {\"minute\": 26, \"group\": \"treatment\", \"landing_page\": \"new_page\", \"converted\": 0.1137137989778535}, {\"minute\": 27, \"group\": \"control\", \"landing_page\": \"old_page\", \"converted\": 0.11366290385363954}, {\"minute\": 27, \"group\": \"treatment\", \"landing_page\": \"new_page\", \"converted\": 0.13101716199246546}, {\"minute\": 28, \"group\": \"control\", \"landing_page\": \"old_page\", \"converted\": 0.12140575079872204}, {\"minute\": 28, \"group\": \"treatment\", \"landing_page\": \"new_page\", \"converted\": 0.12570965125709652}, {\"minute\": 29, \"group\": \"control\", \"landing_page\": \"old_page\", \"converted\": 0.12469337694194603}, {\"minute\": 29, \"group\": \"treatment\", \"landing_page\": \"new_page\", \"converted\": 0.123243677238057}, {\"minute\": 30, \"group\": \"control\", \"landing_page\": \"old_page\", \"converted\": 0.12654452492543672}, {\"minute\": 30, \"group\": \"treatment\", \"landing_page\": \"new_page\", \"converted\": 0.12991178829190056}, {\"minute\": 31, \"group\": \"control\", \"landing_page\": \"old_page\", \"converted\": 0.10889830508474577}, {\"minute\": 31, \"group\": \"treatment\", \"landing_page\": \"new_page\", \"converted\": 0.13585837793330588}, {\"minute\": 32, \"group\": \"control\", \"landing_page\": \"old_page\", \"converted\": 0.11895754518705338}, {\"minute\": 32, \"group\": \"treatment\", \"landing_page\": \"new_page\", \"converted\": 0.13984835720303285}, {\"minute\": 33, \"group\": \"control\", \"landing_page\": \"old_page\", \"converted\": 0.12419093851132686}, {\"minute\": 33, \"group\": \"treatment\", \"landing_page\": \"new_page\", \"converted\": 0.1333059885151764}, {\"minute\": 34, \"group\": \"control\", \"landing_page\": \"old_page\", \"converted\": 0.1257606490872211}, {\"minute\": 34, \"group\": \"treatment\", \"landing_page\": \"new_page\", \"converted\": 0.12058570198105081}, {\"minute\": 35, \"group\": \"control\", \"landing_page\": \"old_page\", \"converted\": 0.11501597444089456}, {\"minute\": 35, \"group\": \"treatment\", \"landing_page\": \"new_page\", \"converted\": 0.1263243683781581}, {\"minute\": 36, \"group\": \"control\", \"landing_page\": \"old_page\", \"converted\": 0.11711340206185566}, {\"minute\": 36, \"group\": \"treatment\", \"landing_page\": \"new_page\", \"converted\": 0.11805555555555555}, {\"minute\": 37, \"group\": \"control\", \"landing_page\": \"old_page\", \"converted\": 0.10738796931772306}, {\"minute\": 37, \"group\": \"treatment\", \"landing_page\": \"new_page\", \"converted\": 0.12680115273775217}, {\"minute\": 38, \"group\": \"control\", \"landing_page\": \"old_page\", \"converted\": 0.1254180602006689}, {\"minute\": 38, \"group\": \"treatment\", \"landing_page\": \"new_page\", \"converted\": 0.13218159903575732}, {\"minute\": 39, \"group\": \"control\", \"landing_page\": \"old_page\", \"converted\": 0.1246278179498086}, {\"minute\": 39, \"group\": \"treatment\", \"landing_page\": \"new_page\", \"converted\": 0.13828477636438244}, {\"minute\": 40, \"group\": \"control\", \"landing_page\": \"old_page\", \"converted\": 0.12050141528507885}, {\"minute\": 40, \"group\": \"treatment\", \"landing_page\": \"new_page\", \"converted\": 0.12796402289452166}, {\"minute\": 41, \"group\": \"control\", \"landing_page\": \"old_page\", \"converted\": 0.11994895789025946}, {\"minute\": 41, \"group\": \"treatment\", \"landing_page\": \"new_page\", \"converted\": 0.11993097497842968}, {\"minute\": 42, \"group\": \"control\", \"landing_page\": \"old_page\", \"converted\": 0.12479806138933765}, {\"minute\": 42, \"group\": \"treatment\", \"landing_page\": \"new_page\", \"converted\": 0.13236481033091202}, {\"minute\": 43, \"group\": \"control\", \"landing_page\": \"old_page\", \"converted\": 0.12321501427988577}, {\"minute\": 43, \"group\": \"treatment\", \"landing_page\": \"new_page\", \"converted\": 0.12087475149105367}, {\"minute\": 44, \"group\": \"control\", \"landing_page\": \"old_page\", \"converted\": 0.12051176227816757}, {\"minute\": 44, \"group\": \"treatment\", \"landing_page\": \"new_page\", \"converted\": 0.12837557125051932}, {\"minute\": 45, \"group\": \"control\", \"landing_page\": \"old_page\", \"converted\": 0.11488673139158576}, {\"minute\": 45, \"group\": \"treatment\", \"landing_page\": \"new_page\", \"converted\": 0.12719665271966527}, {\"minute\": 46, \"group\": \"control\", \"landing_page\": \"old_page\", \"converted\": 0.12330407023144453}, {\"minute\": 46, \"group\": \"treatment\", \"landing_page\": \"new_page\", \"converted\": 0.11421425593997499}, {\"minute\": 47, \"group\": \"control\", \"landing_page\": \"old_page\", \"converted\": 0.1273109243697479}, {\"minute\": 47, \"group\": \"treatment\", \"landing_page\": \"new_page\", \"converted\": 0.131062124248497}, {\"minute\": 48, \"group\": \"control\", \"landing_page\": \"old_page\", \"converted\": 0.11060668592653736}, {\"minute\": 48, \"group\": \"treatment\", \"landing_page\": \"new_page\", \"converted\": 0.13236514522821577}, {\"minute\": 49, \"group\": \"control\", \"landing_page\": \"old_page\", \"converted\": 0.11101730688054032}, {\"minute\": 49, \"group\": \"treatment\", \"landing_page\": \"new_page\", \"converted\": 0.11904761904761904}, {\"minute\": 50, \"group\": \"control\", \"landing_page\": \"old_page\", \"converted\": 0.12954638332652227}, {\"minute\": 50, \"group\": \"treatment\", \"landing_page\": \"new_page\", \"converted\": 0.11698924731182796}, {\"minute\": 51, \"group\": \"control\", \"landing_page\": \"old_page\", \"converted\": 0.12728785357737105}, {\"minute\": 51, \"group\": \"treatment\", \"landing_page\": \"new_page\", \"converted\": 0.11850311850311851}, {\"minute\": 52, \"group\": \"control\", \"landing_page\": \"old_page\", \"converted\": 0.11612903225806452}, {\"minute\": 52, \"group\": \"treatment\", \"landing_page\": \"new_page\", \"converted\": 0.12763320941759604}, {\"minute\": 53, \"group\": \"control\", \"landing_page\": \"old_page\", \"converted\": 0.10817405449369663}, {\"minute\": 53, \"group\": \"treatment\", \"landing_page\": \"new_page\", \"converted\": 0.11702986279257466}, {\"minute\": 54, \"group\": \"control\", \"landing_page\": \"old_page\", \"converted\": 0.11790923824959482}, {\"minute\": 54, \"group\": \"treatment\", \"landing_page\": \"new_page\", \"converted\": 0.13582842724978975}, {\"minute\": 55, \"group\": \"control\", \"landing_page\": \"old_page\", \"converted\": 0.12467419635099913}, {\"minute\": 55, \"group\": \"treatment\", \"landing_page\": \"new_page\", \"converted\": 0.1252517116391462}, {\"minute\": 56, \"group\": \"control\", \"landing_page\": \"old_page\", \"converted\": 0.11142625607779579}, {\"minute\": 56, \"group\": \"treatment\", \"landing_page\": \"new_page\", \"converted\": 0.12862392813393222}, {\"minute\": 57, \"group\": \"control\", \"landing_page\": \"old_page\", \"converted\": 0.12732534105002066}, {\"minute\": 57, \"group\": \"treatment\", \"landing_page\": \"new_page\", \"converted\": 0.11783567134268537}, {\"minute\": 58, \"group\": \"control\", \"landing_page\": \"old_page\", \"converted\": 0.11993382961124896}, {\"minute\": 58, \"group\": \"treatment\", \"landing_page\": \"new_page\", \"converted\": 0.12351945854483926}, {\"minute\": 59, \"group\": \"control\", \"landing_page\": \"old_page\", \"converted\": 0.12051176227816757}, {\"minute\": 59, \"group\": \"treatment\", \"landing_page\": \"new_page\", \"converted\": 0.13023255813953488}]}, \"encoding\": {\"color\": {\"field\": \"group\", \"type\": \"nominal\"}, \"strokeDash\": {\"field\": \"landing_page\", \"type\": \"nominal\"}, \"tooltip\": [{\"field\": \"group\", \"type\": \"nominal\"}, {\"field\": \"landing_page\", \"type\": \"nominal\"}, {\"field\": \"minute\", \"type\": \"quantitative\"}, {\"field\": \"converted\", \"type\": \"quantitative\"}], \"x\": {\"field\": \"minute\", \"title\": \"Minute of the Hour\", \"type\": \"quantitative\"}, \"y\": {\"field\": \"converted\", \"scale\": {\"domain\": [0.1, 0.15]}, \"title\": \"Conversion Rate\", \"type\": \"quantitative\"}}, \"height\": 400, \"title\": \"Conversion Rate by Time, Group, and Landing Page\", \"width\": 600, \"$schema\": \"https://vega.github.io/schema/vega-lite/v5.8.0.json\"}, {\"mode\": \"vega-lite\"});\n",
       "</script>"
      ],
      "text/plain": [
       "alt.Chart(...)"
      ]
     },
     "execution_count": 21,
     "metadata": {},
     "output_type": "execute_result"
    }
   ],
   "source": [
    "# Create Altair chart\n",
    "chart = alt.Chart(conversion_rate_by_time_group_lp).mark_line().encode(\n",
    "    x=alt.X('minute', title='Minute of the Hour'),\n",
    "    y=alt.Y('converted', scale=alt.Scale(domain=[0.1, 0.15]), title='Conversion Rate'),\n",
    "    color='group:N',\n",
    "    strokeDash='landing_page:N',\n",
    "    tooltip=['group', 'landing_page', 'minute', 'converted']\n",
    ").properties(\n",
    "    width=600,\n",
    "    height=400,\n",
    "    title='Conversion Rate by Time, Group, and Landing Page'\n",
    ")\n",
    "\n",
    "# Convert the chart to a dictionary\n",
    "chart_dict = chart.to_dict()\n",
    "\n",
    "# Create a new static chart from the dictionary representation\n",
    "static_chart = alt.Chart.from_dict(chart_dict)\n",
    "\n",
    "# Display the static chart\n",
    "static_chart"
   ]
  },
  {
   "cell_type": "code",
   "execution_count": 22,
   "id": "943bbe64",
   "metadata": {},
   "outputs": [],
   "source": [
    "# bar: distribution"
   ]
  },
  {
   "cell_type": "code",
   "execution_count": 23,
   "id": "174b0f0a",
   "metadata": {},
   "outputs": [
    {
     "data": {
      "text/html": [
       "\n",
       "<style>\n",
       "  #altair-viz-a8ac669342724d45a4a46253f920acd3.vega-embed {\n",
       "    width: 100%;\n",
       "    display: flex;\n",
       "  }\n",
       "\n",
       "  #altair-viz-a8ac669342724d45a4a46253f920acd3.vega-embed details,\n",
       "  #altair-viz-a8ac669342724d45a4a46253f920acd3.vega-embed details summary {\n",
       "    position: relative;\n",
       "  }\n",
       "</style>\n",
       "<div id=\"altair-viz-a8ac669342724d45a4a46253f920acd3\"></div>\n",
       "<script type=\"text/javascript\">\n",
       "  var VEGA_DEBUG = (typeof VEGA_DEBUG == \"undefined\") ? {} : VEGA_DEBUG;\n",
       "  (function(spec, embedOpt){\n",
       "    let outputDiv = document.currentScript.previousElementSibling;\n",
       "    if (outputDiv.id !== \"altair-viz-a8ac669342724d45a4a46253f920acd3\") {\n",
       "      outputDiv = document.getElementById(\"altair-viz-a8ac669342724d45a4a46253f920acd3\");\n",
       "    }\n",
       "    const paths = {\n",
       "      \"vega\": \"https://cdn.jsdelivr.net/npm/vega@5?noext\",\n",
       "      \"vega-lib\": \"https://cdn.jsdelivr.net/npm/vega-lib?noext\",\n",
       "      \"vega-lite\": \"https://cdn.jsdelivr.net/npm/vega-lite@5.8.0?noext\",\n",
       "      \"vega-embed\": \"https://cdn.jsdelivr.net/npm/vega-embed@6?noext\",\n",
       "    };\n",
       "\n",
       "    function maybeLoadScript(lib, version) {\n",
       "      var key = `${lib.replace(\"-\", \"\")}_version`;\n",
       "      return (VEGA_DEBUG[key] == version) ?\n",
       "        Promise.resolve(paths[lib]) :\n",
       "        new Promise(function(resolve, reject) {\n",
       "          var s = document.createElement('script');\n",
       "          document.getElementsByTagName(\"head\")[0].appendChild(s);\n",
       "          s.async = true;\n",
       "          s.onload = () => {\n",
       "            VEGA_DEBUG[key] = version;\n",
       "            return resolve(paths[lib]);\n",
       "          };\n",
       "          s.onerror = () => reject(`Error loading script: ${paths[lib]}`);\n",
       "          s.src = paths[lib];\n",
       "        });\n",
       "    }\n",
       "\n",
       "    function showError(err) {\n",
       "      outputDiv.innerHTML = `<div class=\"error\" style=\"color:red;\">${err}</div>`;\n",
       "      throw err;\n",
       "    }\n",
       "\n",
       "    function displayChart(vegaEmbed) {\n",
       "      vegaEmbed(outputDiv, spec, embedOpt)\n",
       "        .catch(err => showError(`Javascript Error: ${err.message}<br>This usually means there's a typo in your chart specification. See the javascript console for the full traceback.`));\n",
       "    }\n",
       "\n",
       "    if(typeof define === \"function\" && define.amd) {\n",
       "      requirejs.config({paths});\n",
       "      require([\"vega-embed\"], displayChart, err => showError(`Error loading script: ${err.message}`));\n",
       "    } else {\n",
       "      maybeLoadScript(\"vega\", \"5\")\n",
       "        .then(() => maybeLoadScript(\"vega-lite\", \"5.8.0\"))\n",
       "        .then(() => maybeLoadScript(\"vega-embed\", \"6\"))\n",
       "        .catch(showError)\n",
       "        .then(() => displayChart(vegaEmbed));\n",
       "    }\n",
       "  })({\"config\": {\"view\": {\"continuousWidth\": 300, \"continuousHeight\": 300}, \"axis\": {\"labelFontSize\": 12, \"titleFontSize\": 14}, \"title\": {\"fontSize\": 16}}, \"data\": {\"name\": \"data-77693c1dbf05fb810c57a1ba0721f6c8\"}, \"mark\": {\"type\": \"bar\"}, \"encoding\": {\"x\": {\"axis\": {\"labelAngle\": 0}, \"field\": \"group\", \"type\": \"nominal\"}, \"y\": {\"field\": \"converted\", \"type\": \"quantitative\"}}, \"height\": 300, \"title\": \"Conversion Counts by Group\", \"width\": 400, \"$schema\": \"https://vega.github.io/schema/vega-lite/v5.8.0.json\", \"datasets\": {\"data-77693c1dbf05fb810c57a1ba0721f6c8\": [{\"group\": \"control\", \"converted\": 17489.0}, {\"group\": \"treatment\", \"converted\": 18215.0}]}}, {\"mode\": \"vega-lite\"});\n",
       "</script>"
      ],
      "text/plain": [
       "alt.Chart(...)"
      ]
     },
     "execution_count": 23,
     "metadata": {},
     "output_type": "execute_result"
    }
   ],
   "source": [
    "# Group by 'group' and calculate the conversion counts\n",
    "group_conversion_counts = df.groupby('group')['converted'].sum().reset_index()\n",
    "\n",
    "# Create the Altair bar chart\n",
    "chart = alt.Chart(group_conversion_counts).mark_bar().encode(\n",
    "    x=alt.X('group:N', axis=alt.Axis(labelAngle=0)),\n",
    "    y='converted:Q'\n",
    ").properties(\n",
    "    width=400,\n",
    "    height=300,\n",
    "    title='Conversion Counts by Group'\n",
    ")\n",
    "\n",
    "# Customize axis labels and title\n",
    "chart = chart.configure_axis(\n",
    "    labelFontSize=12,    # Font size for axis labels\n",
    "    titleFontSize=14     # Font size for axis titles\n",
    ").configure_title(\n",
    "    fontSize=16          # Font size for the chart title\n",
    ")\n",
    "\n",
    "# Display the Altair chart\n",
    "chart"
   ]
  },
  {
   "cell_type": "code",
   "execution_count": 24,
   "id": "378622e1",
   "metadata": {
    "scrolled": true
   },
   "outputs": [
    {
     "data": {
      "text/html": [
       "\n",
       "<style>\n",
       "  #altair-viz-d1da341cbce543578b3dcd3b3c6fec46.vega-embed {\n",
       "    width: 100%;\n",
       "    display: flex;\n",
       "  }\n",
       "\n",
       "  #altair-viz-d1da341cbce543578b3dcd3b3c6fec46.vega-embed details,\n",
       "  #altair-viz-d1da341cbce543578b3dcd3b3c6fec46.vega-embed details summary {\n",
       "    position: relative;\n",
       "  }\n",
       "</style>\n",
       "<div id=\"altair-viz-d1da341cbce543578b3dcd3b3c6fec46\"></div>\n",
       "<script type=\"text/javascript\">\n",
       "  var VEGA_DEBUG = (typeof VEGA_DEBUG == \"undefined\") ? {} : VEGA_DEBUG;\n",
       "  (function(spec, embedOpt){\n",
       "    let outputDiv = document.currentScript.previousElementSibling;\n",
       "    if (outputDiv.id !== \"altair-viz-d1da341cbce543578b3dcd3b3c6fec46\") {\n",
       "      outputDiv = document.getElementById(\"altair-viz-d1da341cbce543578b3dcd3b3c6fec46\");\n",
       "    }\n",
       "    const paths = {\n",
       "      \"vega\": \"https://cdn.jsdelivr.net/npm/vega@5?noext\",\n",
       "      \"vega-lib\": \"https://cdn.jsdelivr.net/npm/vega-lib?noext\",\n",
       "      \"vega-lite\": \"https://cdn.jsdelivr.net/npm/vega-lite@5.8.0?noext\",\n",
       "      \"vega-embed\": \"https://cdn.jsdelivr.net/npm/vega-embed@6?noext\",\n",
       "    };\n",
       "\n",
       "    function maybeLoadScript(lib, version) {\n",
       "      var key = `${lib.replace(\"-\", \"\")}_version`;\n",
       "      return (VEGA_DEBUG[key] == version) ?\n",
       "        Promise.resolve(paths[lib]) :\n",
       "        new Promise(function(resolve, reject) {\n",
       "          var s = document.createElement('script');\n",
       "          document.getElementsByTagName(\"head\")[0].appendChild(s);\n",
       "          s.async = true;\n",
       "          s.onload = () => {\n",
       "            VEGA_DEBUG[key] = version;\n",
       "            return resolve(paths[lib]);\n",
       "          };\n",
       "          s.onerror = () => reject(`Error loading script: ${paths[lib]}`);\n",
       "          s.src = paths[lib];\n",
       "        });\n",
       "    }\n",
       "\n",
       "    function showError(err) {\n",
       "      outputDiv.innerHTML = `<div class=\"error\" style=\"color:red;\">${err}</div>`;\n",
       "      throw err;\n",
       "    }\n",
       "\n",
       "    function displayChart(vegaEmbed) {\n",
       "      vegaEmbed(outputDiv, spec, embedOpt)\n",
       "        .catch(err => showError(`Javascript Error: ${err.message}<br>This usually means there's a typo in your chart specification. See the javascript console for the full traceback.`));\n",
       "    }\n",
       "\n",
       "    if(typeof define === \"function\" && define.amd) {\n",
       "      requirejs.config({paths});\n",
       "      require([\"vega-embed\"], displayChart, err => showError(`Error loading script: ${err.message}`));\n",
       "    } else {\n",
       "      maybeLoadScript(\"vega\", \"5\")\n",
       "        .then(() => maybeLoadScript(\"vega-lite\", \"5.8.0\"))\n",
       "        .then(() => maybeLoadScript(\"vega-embed\", \"6\"))\n",
       "        .catch(showError)\n",
       "        .then(() => displayChart(vegaEmbed));\n",
       "    }\n",
       "  })({\"config\": {\"view\": {\"continuousWidth\": 300, \"continuousHeight\": 300}, \"axis\": {\"labelFontSize\": 12, \"titleFontSize\": 14}, \"title\": {\"fontSize\": 16}}, \"layer\": [{\"mark\": {\"type\": \"bar\"}, \"encoding\": {\"x\": {\"axis\": {\"labelAngle\": 0}, \"field\": \"group\", \"type\": \"nominal\"}, \"y\": {\"field\": \"converted\", \"type\": \"quantitative\"}}, \"title\": \"Conversion Counts by Group\"}, {\"mark\": {\"type\": \"text\", \"align\": \"center\", \"baseline\": \"middle\", \"dy\": -10}, \"encoding\": {\"text\": {\"field\": \"conversion_rate\", \"format\": \".1%\", \"type\": \"quantitative\"}, \"x\": {\"field\": \"group\", \"type\": \"nominal\"}, \"y\": {\"field\": \"converted\", \"type\": \"quantitative\"}}}], \"data\": {\"name\": \"data-754f7d5fa409d4b659dd5a808f4c5525\"}, \"height\": 300, \"width\": 400, \"$schema\": \"https://vega.github.io/schema/vega-lite/v5.8.0.json\", \"datasets\": {\"data-754f7d5fa409d4b659dd5a808f4c5525\": [{\"group\": \"control\", \"converted\": 17489.0, \"conversion_rate\": 0.1203863045004612}, {\"group\": \"treatment\", \"converted\": 18215.0, \"conversion_rate\": 0.1253526942399009}]}}, {\"mode\": \"vega-lite\"});\n",
       "</script>"
      ],
      "text/plain": [
       "alt.LayerChart(...)"
      ]
     },
     "execution_count": 24,
     "metadata": {},
     "output_type": "execute_result"
    }
   ],
   "source": [
    "# Group by 'group' and calculate the conversion counts and conversion rates\n",
    "group_conversion_counts = df.groupby('group')['converted'].sum().reset_index()\n",
    "group_conversion_rates = df.groupby('group')['converted'].mean().reset_index()\n",
    "group_conversion_counts['conversion_rate'] = group_conversion_rates['converted']\n",
    "\n",
    "# Create the Altair bar chart for conversion counts by group\n",
    "bar_chart = alt.Chart(group_conversion_counts).mark_bar().encode(\n",
    "    x=alt.X('group:N', axis=alt.Axis(labelAngle=0)),\n",
    "    y='converted:Q'\n",
    ").properties(\n",
    "    width=400,\n",
    "    height=300,\n",
    "    title='Conversion Counts by Group'\n",
    ")\n",
    "\n",
    "# Create the Altair text chart for conversion rates at the top of each bar\n",
    "text_chart = alt.Chart(group_conversion_counts).mark_text(\n",
    "    align='center',\n",
    "    baseline='middle',\n",
    "    dy=-10  # Adjust vertical position of the text labels\n",
    ").encode(\n",
    "    x=alt.X('group:N'),\n",
    "    y=alt.Y('converted:Q'),\n",
    "    text=alt.Text('conversion_rate:Q', format='.1%')  # Display conversion rate with one decimal place\n",
    ")\n",
    "\n",
    "# Combine the bar chart and text chart using layering\n",
    "final_chart = bar_chart + text_chart\n",
    "\n",
    "# Customize axis labels and title\n",
    "final_chart = final_chart.configure_axis(\n",
    "    labelFontSize=12,    # Font size for axis labels\n",
    "    titleFontSize=14     # Font size for axis titles\n",
    ").configure_title(\n",
    "    fontSize=16          # Font size for the chart title\n",
    ")\n",
    "\n",
    "# Display the final Altair chart\n",
    "final_chart\n"
   ]
  },
  {
   "cell_type": "markdown",
   "id": "04e1df09",
   "metadata": {},
   "source": [
    "## 3. Analyze results"
   ]
  },
  {
   "cell_type": "markdown",
   "id": "73e2f966",
   "metadata": {},
   "source": [
    "Let's assume that the new page does not have higher conversion rate than the old page at 5% Type I error. So the hypothesis woule be:"
   ]
  },
  {
   "cell_type": "markdown",
   "id": "5efd5ad5",
   "metadata": {},
   "source": [
    "**null:** **$p_{new}$** - **$p_{old}$** <=0\n",
    "\n",
    "**alternative:** **$p_{new}$** - **$p_{old}$** >0"
   ]
  },
  {
   "cell_type": "code",
   "execution_count": 25,
   "id": "5f873fd0",
   "metadata": {},
   "outputs": [
    {
     "data": {
      "text/plain": [
       "(17489.0, 18215.0, 145274, 145310)"
      ]
     },
     "execution_count": 25,
     "metadata": {},
     "output_type": "execute_result"
    }
   ],
   "source": [
    "convert_old = df[df.group=='control'].converted.sum()\n",
    "convert_new = df[df.group=='treatment'].converted.sum()\n",
    "n_old = len(df[df.group=='control'].converted)\n",
    "n_new= len(df[df.group=='treatment'].converted)\n",
    "\n",
    "convert_old, convert_new, n_old, n_new"
   ]
  },
  {
   "cell_type": "code",
   "execution_count": 26,
   "id": "63d8658d",
   "metadata": {},
   "outputs": [
    {
     "data": {
      "text/html": [
       "<div>\n",
       "<style scoped>\n",
       "    .dataframe tbody tr th:only-of-type {\n",
       "        vertical-align: middle;\n",
       "    }\n",
       "\n",
       "    .dataframe tbody tr th {\n",
       "        vertical-align: top;\n",
       "    }\n",
       "\n",
       "    .dataframe thead th {\n",
       "        text-align: right;\n",
       "    }\n",
       "</style>\n",
       "<table border=\"1\" class=\"dataframe\">\n",
       "  <thead>\n",
       "    <tr style=\"text-align: right;\">\n",
       "      <th></th>\n",
       "      <th>Views</th>\n",
       "      <th>Converts</th>\n",
       "      <th>Conversion %</th>\n",
       "    </tr>\n",
       "  </thead>\n",
       "  <tbody>\n",
       "    <tr>\n",
       "      <th>Control</th>\n",
       "      <td>145274</td>\n",
       "      <td>17489.0</td>\n",
       "      <td>12.0%</td>\n",
       "    </tr>\n",
       "    <tr>\n",
       "      <th>Test</th>\n",
       "      <td>145310</td>\n",
       "      <td>18215.0</td>\n",
       "      <td>12.5%</td>\n",
       "    </tr>\n",
       "  </tbody>\n",
       "</table>\n",
       "</div>"
      ],
      "text/plain": [
       "          Views  Converts Conversion %\n",
       "Control  145274   17489.0        12.0%\n",
       "Test     145310   18215.0        12.5%"
      ]
     },
     "execution_count": 26,
     "metadata": {},
     "output_type": "execute_result"
    }
   ],
   "source": [
    "conversion_dic = {'Views':{'Control':n_old,'Test':n_new},'Converts': {'Control':convert_old,'Test':convert_new}}\n",
    "conversion_table = pd.DataFrame(conversion_dic)\n",
    "conversion_table['Conversion %'] = conversion_table['Converts'] / conversion_table['Views']\n",
    "conversion_table['Conversion %'] = conversion_table['Conversion %'].apply(lambda x: str(np.round(x,3)*100)+'%')\n",
    "conversion_table"
   ]
  },
  {
   "cell_type": "markdown",
   "id": "fcc24098",
   "metadata": {},
   "source": [
    "### 3.1 Z-test in our way"
   ]
  },
  {
   "cell_type": "code",
   "execution_count": 27,
   "id": "01b03c39",
   "metadata": {},
   "outputs": [],
   "source": [
    "def z_test(p1,p0,n1,n0):\n",
    "    delta = p1-p0\n",
    "    p = (p1*n1 + p0*n0) / (n1+n0)\n",
    "    return delta / np.sqrt(p*(1-p)*(1/n1 + 1/n0))\n",
    "\n",
    "#binomial, sample size > 30 -> central limit -> normal"
   ]
  },
  {
   "cell_type": "code",
   "execution_count": 28,
   "id": "3655266d",
   "metadata": {},
   "outputs": [],
   "source": [
    "p1 = convert_new / n_new\n",
    "p0 = convert_old / n_old\n",
    "n1 = n_new\n",
    "n0 = n_old"
   ]
  },
  {
   "cell_type": "code",
   "execution_count": 29,
   "id": "0ce38b7b",
   "metadata": {},
   "outputs": [
    {
     "data": {
      "text/plain": [
       "4.077481782861739"
      ]
     },
     "execution_count": 29,
     "metadata": {},
     "output_type": "execute_result"
    }
   ],
   "source": [
    "z_value = z_test(p1,p0,n1,n0)\n",
    "z_value"
   ]
  },
  {
   "cell_type": "code",
   "execution_count": 30,
   "id": "e03c2bcd",
   "metadata": {},
   "outputs": [
    {
     "data": {
      "text/plain": [
       "2.276304781123617e-05"
      ]
     },
     "execution_count": 30,
     "metadata": {},
     "output_type": "execute_result"
    }
   ],
   "source": [
    "from scipy.stats import norm\n",
    "p_value = 1- norm.cdf(z_value)\n",
    "\n",
    "p_value"
   ]
  },
  {
   "cell_type": "markdown",
   "id": "c07260cd",
   "metadata": {},
   "source": [
    "p-value is less than 0.05, so we can reject null hypothesis and accept alternative hypothesis that\n",
    "<br>**$p_{new}$** - **$p_{old}$** >0, the new page has higher conversion rate than the old page"
   ]
  },
  {
   "cell_type": "markdown",
   "id": "aa5bc17f",
   "metadata": {},
   "source": [
    "### 3.2 Z-test in Statsmodels"
   ]
  },
  {
   "cell_type": "code",
   "execution_count": 31,
   "id": "9c8131f6",
   "metadata": {},
   "outputs": [],
   "source": [
    "import statsmodels.api as sm"
   ]
  },
  {
   "cell_type": "code",
   "execution_count": 32,
   "id": "5003086c",
   "metadata": {},
   "outputs": [
    {
     "data": {
      "text/plain": [
       "(4.077481782861739, 2.276304781118429e-05)"
      ]
     },
     "execution_count": 32,
     "metadata": {},
     "output_type": "execute_result"
    }
   ],
   "source": [
    "z_score, p_value = sm.stats.proportions_ztest([convert_new, convert_old], [n_new, n_old], alternative='larger')\n",
    "z_score, p_value"
   ]
  },
  {
   "cell_type": "markdown",
   "id": "6a713086",
   "metadata": {},
   "source": [
    "p-value is less than 0.05, so we can reject null hypothesis and accept alternative hypothesis that\n",
    "<br>**$p_{new}$** - **$p_{old}$** >0, the new page has higher conversion rate than the old page"
   ]
  }
 ],
 "metadata": {
  "kernelspec": {
   "display_name": "Python 3 (ipykernel)",
   "language": "python",
   "name": "python3"
  },
  "language_info": {
   "codemirror_mode": {
    "name": "ipython",
    "version": 3
   },
   "file_extension": ".py",
   "mimetype": "text/x-python",
   "name": "python",
   "nbconvert_exporter": "python",
   "pygments_lexer": "ipython3",
   "version": "3.9.7"
  }
 },
 "nbformat": 4,
 "nbformat_minor": 5
}
